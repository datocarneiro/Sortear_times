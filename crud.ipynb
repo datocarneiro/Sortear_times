{
 "cells": [
  {
   "cell_type": "code",
   "execution_count": null,
   "metadata": {},
   "outputs": [],
   "source": [
    "nomerecebido = 'amplo'\n",
    "nome = nomerecebido.capitalize().lower()\n",
    "print(nome)\n"
   ]
  }
 ],
 "metadata": {
  "language_info": {
   "name": "python"
  }
 },
 "nbformat": 4,
 "nbformat_minor": 2
}
